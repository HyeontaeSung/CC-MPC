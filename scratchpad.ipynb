{
 "cells": [
  {
   "cell_type": "code",
   "execution_count": 8,
   "id": "stylish-worry",
   "metadata": {},
   "outputs": [],
   "source": [
    "import dill\n",
    "from glob import glob"
   ]
  },
  {
   "cell_type": "code",
   "execution_count": 9,
   "id": "different-vatican",
   "metadata": {},
   "outputs": [
    {
     "data": {
      "text/plain": [
       "['out/20210527_14-42-45_dataset.pkl',\n",
       " 'out/20210527_13-55-08_dataset.pkl',\n",
       " 'out/20210527_13-05-11_dataset.pkl',\n",
       " 'out/20210526_22-45-09_dataset.pkl',\n",
       " 'out/20210527_09-54-26_dataset.pkl',\n",
       " 'out/20210527_12-16-26_dataset.pkl',\n",
       " 'out/20210527_10-40-23_dataset.pkl',\n",
       " 'out/20210527_11-28-24_dataset.pkl']"
      ]
     },
     "execution_count": 9,
     "metadata": {},
     "output_type": "execute_result"
    }
   ],
   "source": [
    "glob('out/*_dataset.pkl')"
   ]
  },
  {
   "cell_type": "code",
   "execution_count": 10,
   "id": "printable-flower",
   "metadata": {},
   "outputs": [],
   "source": [
    "ds = ['out/20210527_14-42-45_dataset.pkl',\n",
    "        'out/20210527_13-55-08_dataset.pkl',\n",
    "        'out/20210527_13-05-11_dataset.pkl',\n",
    "        'out/20210526_22-45-09_dataset.pkl',\n",
    "        'out/20210527_09-54-26_dataset.pkl',\n",
    "        'out/20210527_12-16-26_dataset.pkl',\n",
    "        'out/20210527_10-40-23_dataset.pkl',\n",
    "        'out/20210527_11-28-24_dataset.pkl']"
   ]
  },
  {
   "cell_type": "code",
   "execution_count": 31,
   "id": "growing-equilibrium",
   "metadata": {},
   "outputs": [
    {
     "name": "stdout",
     "output_type": "stream",
     "text": [
      "1407\n"
     ]
    }
   ],
   "source": [
    "# train set\n",
    "with open(ds[0], 'rb') as f:\n",
    "    env1 = dill.load(f, encoding='latin1')\n",
    "for dataset in ds[1:6]:\n",
    "    with open(dataset, 'rb') as f:\n",
    "        env = dill.load(f, encoding='latin1')\n",
    "    env1.scenes.extend(env.scenes)\n",
    "print(len(env1.scenes))"
   ]
  },
  {
   "cell_type": "code",
   "execution_count": 32,
   "id": "conditional-vessel",
   "metadata": {},
   "outputs": [],
   "source": [
    "savepath = 'out/carla_train_v1_full.pkl'\n",
    "with open(savepath, 'wb') as f:\n",
    "    dill.dump(env1, f, protocol=dill.HIGHEST_PROTOCOL)"
   ]
  },
  {
   "cell_type": "code",
   "execution_count": 33,
   "id": "applied-debate",
   "metadata": {},
   "outputs": [
    {
     "data": {
      "text/plain": [
       "(['out/20210527_14-42-45_dataset.pkl',\n",
       "  'out/20210527_13-55-08_dataset.pkl',\n",
       "  'out/20210527_13-05-11_dataset.pkl',\n",
       "  'out/20210526_22-45-09_dataset.pkl',\n",
       "  'out/20210527_09-54-26_dataset.pkl',\n",
       "  'out/20210527_12-16-26_dataset.pkl'],\n",
       " 'out/20210527_10-40-23_dataset.pkl',\n",
       " 'out/20210527_11-28-24_dataset.pkl')"
      ]
     },
     "execution_count": 33,
     "metadata": {},
     "output_type": "execute_result"
    }
   ],
   "source": [
    "ds[:6], ds[6], ds[7]"
   ]
  },
  {
   "cell_type": "code",
   "execution_count": null,
   "id": "rational-roberts",
   "metadata": {},
   "outputs": [],
   "source": []
  }
 ],
 "metadata": {
  "kernelspec": {
   "display_name": "Python 3.6 (Trajectron++)",
   "language": "python",
   "name": "trajectronpp"
  },
  "language_info": {
   "codemirror_mode": {
    "name": "ipython",
    "version": 3
   },
   "file_extension": ".py",
   "mimetype": "text/x-python",
   "name": "python",
   "nbconvert_exporter": "python",
   "pygments_lexer": "ipython3",
   "version": "3.6.12"
  }
 },
 "nbformat": 4,
 "nbformat_minor": 5
}
