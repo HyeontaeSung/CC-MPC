{
 "cells": [
  {
   "cell_type": "markdown",
   "id": "silent-industry",
   "metadata": {},
   "source": [
    "Create dataset from individual data `.pkl` files"
   ]
  },
  {
   "cell_type": "code",
   "execution_count": 3,
   "id": "sporting-grove",
   "metadata": {},
   "outputs": [
    {
     "data": {
      "text/plain": [
       "['/home/fireofearth/code/robotics/carla-collect/carla_v2_1_dataset/20210619_17-08-54_dataset.pkl',\n",
       " '/home/fireofearth/code/robotics/carla-collect/carla_v2_1_dataset/20210619_15-11-23_dataset.pkl',\n",
       " '/home/fireofearth/code/robotics/carla-collect/carla_v2_1_dataset/20210619_14-14-32_dataset.pkl',\n",
       " '/home/fireofearth/code/robotics/carla-collect/carla_v2_1_dataset/20210619_15-33-30_dataset.pkl',\n",
       " '/home/fireofearth/code/robotics/carla-collect/carla_v2_1_dataset/20210619_14-49-11_dataset.pkl',\n",
       " '/home/fireofearth/code/robotics/carla-collect/carla_v2_1_dataset/20210619_15-59-30_dataset.pkl',\n",
       " '/home/fireofearth/code/robotics/carla-collect/carla_v2_1_dataset/20210619_16-53-58_dataset.pkl',\n",
       " '/home/fireofearth/code/robotics/carla-collect/carla_v2_1_dataset/20210616_17-48-52_dataset.pkl']"
      ]
     },
     "execution_count": 3,
     "metadata": {},
     "output_type": "execute_result"
    }
   ],
   "source": [
    "import os\n",
    "import shutil\n",
    "import dill\n",
    "import random\n",
    "from glob import glob\n",
    "import numpy as np\n",
    "from tqdm.notebook import tqdm\n",
    "from generate.scene.trajectron_scene import augment_scene\n",
    "\n",
    "VERSION = 2\n",
    "DATADIR = 'carla_v2_1_dataset'\n",
    "[os.path.abspath(path) for path in glob(f\"{ DATADIR }/*_dataset.pkl\")]"
   ]
  },
  {
   "cell_type": "code",
   "execution_count": 4,
   "id": "retained-quebec",
   "metadata": {},
   "outputs": [
    {
     "data": {
      "text/plain": [
       "8"
      ]
     },
     "execution_count": 4,
     "metadata": {},
     "output_type": "execute_result"
    }
   ],
   "source": [
    "ds = ['/home/fireofearth/code/robotics/carla-collect/carla_v2_1_dataset/20210619_17-08-54_dataset.pkl',\n",
    " '/home/fireofearth/code/robotics/carla-collect/carla_v2_1_dataset/20210619_15-11-23_dataset.pkl',\n",
    " '/home/fireofearth/code/robotics/carla-collect/carla_v2_1_dataset/20210619_14-14-32_dataset.pkl',\n",
    " '/home/fireofearth/code/robotics/carla-collect/carla_v2_1_dataset/20210619_15-33-30_dataset.pkl',\n",
    " '/home/fireofearth/code/robotics/carla-collect/carla_v2_1_dataset/20210619_14-49-11_dataset.pkl',\n",
    " '/home/fireofearth/code/robotics/carla-collect/carla_v2_1_dataset/20210619_15-59-30_dataset.pkl',\n",
    " '/home/fireofearth/code/robotics/carla-collect/carla_v2_1_dataset/20210619_16-53-58_dataset.pkl',\n",
    " '/home/fireofearth/code/robotics/carla-collect/carla_v2_1_dataset/20210616_17-48-52_dataset.pkl']\n",
    "len(ds)"
   ]
  },
  {
   "cell_type": "code",
   "execution_count": 5,
   "id": "entitled-prefix",
   "metadata": {},
   "outputs": [
    {
     "name": "stdout",
     "output_type": "stream",
     "text": [
      "Forming train set\n",
      "Got 1325 scenes\n",
      "Augmenting scenes\n"
     ]
    },
    {
     "data": {
      "application/vnd.jupyter.widget-view+json": {
       "model_id": "0b3ab6810e074e0ab2e958f7b8899ff4",
       "version_major": 2,
       "version_minor": 0
      },
      "text/plain": [
       "HBox(children=(FloatProgress(value=0.0, max=1325.0), HTML(value='')))"
      ]
     },
     "metadata": {},
     "output_type": "display_data"
    },
    {
     "name": "stdout",
     "output_type": "stream",
     "text": [
      "\n",
      "Shuffling scenes\n",
      "Saving train set\n",
      "Saving val set\n",
      "Saving test set\n",
      "Done\n"
     ]
    }
   ],
   "source": [
    "# train set\n",
    "print(\"Forming train set\")\n",
    "with open(ds[0], 'rb') as f:\n",
    "    env = dill.load(f, encoding='latin1')\n",
    "for dataset in ds[1:6]:\n",
    "    with open(dataset, 'rb') as f:\n",
    "        env2 = dill.load(f, encoding='latin1')\n",
    "    env.scenes.extend(env2.scenes)\n",
    "print(f\"Got {len(env.scenes)} scenes\")\n",
    "\n",
    "print(\"Augmenting scenes\")\n",
    "for scene in tqdm(env.scenes):\n",
    "    scene.augmented = list()\n",
    "    angles = np.arange(0, 360, 15)\n",
    "    for angle in angles:\n",
    "        scene.augmented.append(augment_scene(scene, angle))\n",
    "\n",
    "print(\"Shuffling scenes\")\n",
    "random.shuffle(env.scenes)\n",
    "random.shuffle(env.scenes)\n",
    "        \n",
    "print(\"Saving train set\")\n",
    "savepath = f\"{ DATADIR }/carla_train_v{ VERSION }_full.pkl\"\n",
    "with open(savepath, 'wb') as f:\n",
    "    dill.dump(env, f, protocol=dill.HIGHEST_PROTOCOL)\n",
    "\n",
    "print(\"Saving val set\")\n",
    "savepath = f\"{ DATADIR }/carla_val_v{ VERSION }_full.pkl\"\n",
    "shutil.copyfile(ds[6], os.path.abspath(savepath))\n",
    "\n",
    "print(\"Saving test set\")\n",
    "savepath = f\"{ DATADIR }/carla_test_v{ VERSION }_full.pkl\"\n",
    "shutil.copyfile(ds[7], os.path.abspath(savepath))\n",
    "print(\"Done\")"
   ]
  },
  {
   "cell_type": "code",
   "execution_count": null,
   "id": "greatest-series",
   "metadata": {},
   "outputs": [],
   "source": []
  }
 ],
 "metadata": {
  "kernelspec": {
   "display_name": "Python 3.6 (Trajectron++)",
   "language": "python",
   "name": "trajectronpp"
  },
  "language_info": {
   "codemirror_mode": {
    "name": "ipython",
    "version": 3
   },
   "file_extension": ".py",
   "mimetype": "text/x-python",
   "name": "python",
   "nbconvert_exporter": "python",
   "pygments_lexer": "ipython3",
   "version": "3.6.12"
  }
 },
 "nbformat": 4,
 "nbformat_minor": 5
}
