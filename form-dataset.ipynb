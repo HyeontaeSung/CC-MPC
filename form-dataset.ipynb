{
 "cells": [
  {
   "cell_type": "markdown",
   "id": "macro-juice",
   "metadata": {},
   "source": [
    "Create dataset from individual data `.pkl` files"
   ]
  },
  {
   "cell_type": "code",
   "execution_count": 4,
   "id": "falling-projector",
   "metadata": {},
   "outputs": [
    {
     "data": {
      "text/plain": [
       "['/home/fireofearth/code/robotics/carla-collect/carla_v2_dataset/20210601_18-11-36_dataset.pkl',\n",
       " '/home/fireofearth/code/robotics/carla-collect/carla_v2_dataset/20210601_17-37-57_dataset.pkl',\n",
       " '/home/fireofearth/code/robotics/carla-collect/carla_v2_dataset/20210601_19-02-20_dataset.pkl',\n",
       " '/home/fireofearth/code/robotics/carla-collect/carla_v2_dataset/20210601_19-19-17_dataset.pkl',\n",
       " '/home/fireofearth/code/robotics/carla-collect/carla_v2_dataset/20210601_17-54-47_dataset.pkl',\n",
       " '/home/fireofearth/code/robotics/carla-collect/carla_v2_dataset/20210601_18-45-20_dataset.pkl',\n",
       " '/home/fireofearth/code/robotics/carla-collect/carla_v2_dataset/20210601_17-20-53_dataset.pkl',\n",
       " '/home/fireofearth/code/robotics/carla-collect/carla_v2_dataset/20210601_18-28-25_dataset.pkl']"
      ]
     },
     "execution_count": 4,
     "metadata": {},
     "output_type": "execute_result"
    }
   ],
   "source": [
    "import os\n",
    "import shutil\n",
    "import dill\n",
    "import random\n",
    "from glob import glob\n",
    "import numpy as np\n",
    "from tqdm.notebook import tqdm\n",
    "from generate.scene.trajectron_scene import augment_scene\n",
    "\n",
    "VERSION = 2\n",
    "DATADIR = 'carla_v2_dataset'\n",
    "[os.path.abspath(path) for path in glob(f\"{ DATADIR }/*_dataset.pkl\")]"
   ]
  },
  {
   "cell_type": "code",
   "execution_count": 5,
   "id": "regular-wholesale",
   "metadata": {},
   "outputs": [
    {
     "data": {
      "text/plain": [
       "8"
      ]
     },
     "execution_count": 5,
     "metadata": {},
     "output_type": "execute_result"
    }
   ],
   "source": [
    "ds = ['/home/fireofearth/code/robotics/carla-collect/carla_v2_dataset/20210601_18-11-36_dataset.pkl',\n",
    " '/home/fireofearth/code/robotics/carla-collect/carla_v2_dataset/20210601_17-37-57_dataset.pkl',\n",
    " '/home/fireofearth/code/robotics/carla-collect/carla_v2_dataset/20210601_19-02-20_dataset.pkl',\n",
    " '/home/fireofearth/code/robotics/carla-collect/carla_v2_dataset/20210601_19-19-17_dataset.pkl',\n",
    " '/home/fireofearth/code/robotics/carla-collect/carla_v2_dataset/20210601_17-54-47_dataset.pkl',\n",
    " '/home/fireofearth/code/robotics/carla-collect/carla_v2_dataset/20210601_18-45-20_dataset.pkl',\n",
    " '/home/fireofearth/code/robotics/carla-collect/carla_v2_dataset/20210601_17-20-53_dataset.pkl',\n",
    " '/home/fireofearth/code/robotics/carla-collect/carla_v2_dataset/20210601_18-28-25_dataset.pkl']\n",
    "len(ds)"
   ]
  },
  {
   "cell_type": "code",
   "execution_count": 6,
   "id": "historical-blast",
   "metadata": {},
   "outputs": [
    {
     "name": "stdout",
     "output_type": "stream",
     "text": [
      "Forming train set\n",
      "Got 1313 scenes\n",
      "Augmenting scenes\n"
     ]
    },
    {
     "data": {
      "application/vnd.jupyter.widget-view+json": {
       "model_id": "586e38b0f4264f8b8c545560c563ae30",
       "version_major": 2,
       "version_minor": 0
      },
      "text/plain": [
       "HBox(children=(FloatProgress(value=0.0, max=1313.0), HTML(value='')))"
      ]
     },
     "metadata": {},
     "output_type": "display_data"
    },
    {
     "name": "stdout",
     "output_type": "stream",
     "text": [
      "\n",
      "Shuffling scenes\n",
      "Saving train set\n",
      "Saving val set\n",
      "Saving test set\n",
      "Done\n"
     ]
    }
   ],
   "source": [
    "# train set\n",
    "print(\"Forming train set\")\n",
    "with open(ds[0], 'rb') as f:\n",
    "    env = dill.load(f, encoding='latin1')\n",
    "for dataset in ds[1:6]:\n",
    "    with open(dataset, 'rb') as f:\n",
    "        env2 = dill.load(f, encoding='latin1')\n",
    "    env.scenes.extend(env2.scenes)\n",
    "print(f\"Got {len(env.scenes)} scenes\")\n",
    "\n",
    "print(\"Augmenting scenes\")\n",
    "for scene in tqdm(env.scenes):\n",
    "    scene.augmented = list()\n",
    "    angles = np.arange(0, 360, 15)\n",
    "    for angle in angles:\n",
    "        scene.augmented.append(augment_scene(scene, angle))\n",
    "\n",
    "print(\"Shuffling scenes\")\n",
    "random.shuffle(env.scenes)\n",
    "random.shuffle(env.scenes)\n",
    "        \n",
    "print(\"Saving train set\")\n",
    "savepath = f\"{ DATADIR }/carla_train_v{ VERSION }_full.pkl\"\n",
    "with open(savepath, 'wb') as f:\n",
    "    dill.dump(env, f, protocol=dill.HIGHEST_PROTOCOL)\n",
    "\n",
    "print(\"Saving val set\")\n",
    "savepath = f\"{ DATADIR }/carla_val_v{ VERSION }_full.pkl\"\n",
    "shutil.copyfile(ds[6], os.path.abspath(savepath))\n",
    "\n",
    "print(\"Saving test set\")\n",
    "savepath = f\"{ DATADIR }/carla_test_v{ VERSION }_full.pkl\"\n",
    "shutil.copyfile(ds[7], os.path.abspath(savepath))\n",
    "print(\"Done\")"
   ]
  },
  {
   "cell_type": "code",
   "execution_count": null,
   "id": "executive-citizenship",
   "metadata": {},
   "outputs": [],
   "source": []
  }
 ],
 "metadata": {
  "kernelspec": {
   "display_name": "Python 3.6 (Trajectron++)",
   "language": "python",
   "name": "trajectronpp"
  },
  "language_info": {
   "codemirror_mode": {
    "name": "ipython",
    "version": 3
   },
   "file_extension": ".py",
   "mimetype": "text/x-python",
   "name": "python",
   "nbconvert_exporter": "python",
   "pygments_lexer": "ipython3",
   "version": "3.6.12"
  }
 },
 "nbformat": 4,
 "nbformat_minor": 5
}
