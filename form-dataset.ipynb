{
 "cells": [
  {
   "cell_type": "markdown",
   "id": "2bd17a81",
   "metadata": {},
   "source": [
    "Some code to create (train, val, test) set from dataset composed of multiple data `.pkl` files.\n",
    "\n",
    "This is no longer actively being used to create validation sets. Use a python script instead."
   ]
  },
  {
   "cell_type": "code",
   "execution_count": 1,
   "id": "60f7803d",
   "metadata": {},
   "outputs": [
    {
     "data": {
      "text/plain": [
       "['/home/daedalus/code/robotics/carla-collect/rawCarla-0.9.13-Town03/20220326_20-29-56_Town03.pkl',\n",
       " '/home/daedalus/code/robotics/carla-collect/rawCarla-0.9.13-Town03/20220326_19-45-40_Town03.pkl',\n",
       " '/home/daedalus/code/robotics/carla-collect/rawCarla-0.9.13-Town03/20220326_20-18-10_Town03.pkl',\n",
       " '/home/daedalus/code/robotics/carla-collect/rawCarla-0.9.13-Town03/20220326_20-35-50_Town03.pkl',\n",
       " '/home/daedalus/code/robotics/carla-collect/rawCarla-0.9.13-Town03/20220326_20-24-03_Town03.pkl']"
      ]
     },
     "execution_count": 1,
     "metadata": {},
     "output_type": "execute_result"
    }
   ],
   "source": [
    "import os\n",
    "import shutil\n",
    "import dill\n",
    "import random\n",
    "from glob import glob\n",
    "import numpy as np\n",
    "from tqdm.notebook import tqdm\n",
    "from collect.generate.scene.v3.trajectron_scene import augment_scene\n",
    "\n",
    "DATADIR = 'rawCarla-0.9.13-Town03'\n",
    "[os.path.abspath(path) for path in glob(f\"{ DATADIR }/*.pkl\")]"
   ]
  },
  {
   "cell_type": "markdown",
   "id": "c1216d4e",
   "metadata": {},
   "source": [
    "Copy the output array into the next Jupyter notebook cell"
   ]
  },
  {
   "cell_type": "code",
   "execution_count": 2,
   "id": "55aa1e5a",
   "metadata": {},
   "outputs": [
    {
     "data": {
      "text/plain": [
       "5"
      ]
     },
     "execution_count": 2,
     "metadata": {},
     "output_type": "execute_result"
    }
   ],
   "source": [
    "ds = ['/home/daedalus/code/robotics/carla-collect/rawCarla-0.9.13-Town03/20220326_20-29-56_Town03.pkl',\n",
    " '/home/daedalus/code/robotics/carla-collect/rawCarla-0.9.13-Town03/20220326_19-45-40_Town03.pkl',\n",
    " '/home/daedalus/code/robotics/carla-collect/rawCarla-0.9.13-Town03/20220326_20-18-10_Town03.pkl',\n",
    " '/home/daedalus/code/robotics/carla-collect/rawCarla-0.9.13-Town03/20220326_20-35-50_Town03.pkl',\n",
    " '/home/daedalus/code/robotics/carla-collect/rawCarla-0.9.13-Town03/20220326_20-24-03_Town03.pkl']\n",
    "len(ds)"
   ]
  },
  {
   "cell_type": "markdown",
   "id": "9fcd03e2",
   "metadata": {},
   "source": [
    "## Inspect the dataset"
   ]
  },
  {
   "cell_type": "code",
   "execution_count": 3,
   "id": "26661fbc",
   "metadata": {},
   "outputs": [
    {
     "data": {
      "text/plain": [
       "300"
      ]
     },
     "execution_count": 3,
     "metadata": {},
     "output_type": "execute_result"
    }
   ],
   "source": [
    "with open(ds[0], 'rb') as f:\n",
    "    env = dill.load(f, encoding='latin1')\n",
    "len(env.scenes)"
   ]
  },
  {
   "cell_type": "code",
   "execution_count": 4,
   "id": "90b81694",
   "metadata": {},
   "outputs": [
    {
     "data": {
      "text/plain": [
       "'Carla/Maps/Town03/ep015/agent1679/frame00002176'"
      ]
     },
     "execution_count": 4,
     "metadata": {},
     "output_type": "execute_result"
    }
   ],
   "source": [
    "env.scenes[0].name"
   ]
  },
  {
   "cell_type": "markdown",
   "id": "ec067623",
   "metadata": {},
   "source": [
    "## Creating (train, val, test) sets from dataset."
   ]
  },
  {
   "cell_type": "code",
   "execution_count": 7,
   "id": "e5c9dea0",
   "metadata": {},
   "outputs": [],
   "source": [
    "n_pkl_to_train_set = 1\n",
    "val_set_idx  = 3\n",
    "test_set_idx = 4\n",
    "val_set_size = 30\n",
    "test_set_size = 30\n",
    "version_label = \"v4_1\""
   ]
  },
  {
   "cell_type": "code",
   "execution_count": 21,
   "id": "2b9e4234",
   "metadata": {},
   "outputs": [
    {
     "name": "stdout",
     "output_type": "stream",
     "text": [
      "Forming train set\n",
      "Got 209 scenes\n",
      "Augmenting scenes\n"
     ]
    },
    {
     "data": {
      "application/vnd.jupyter.widget-view+json": {
       "model_id": "4eed90b4397547b1b50a6baa5f8fdacb",
       "version_major": 2,
       "version_minor": 0
      },
      "text/plain": [
       "HBox(children=(FloatProgress(value=0.0, max=209.0), HTML(value='')))"
      ]
     },
     "metadata": {},
     "output_type": "display_data"
    },
    {
     "name": "stdout",
     "output_type": "stream",
     "text": [
      "\n",
      "Shuffling scenes\n",
      "Saving train set\n",
      "Saving val set\n",
      "Has 203 scenes, selecting 30 of them\n",
      "Saving test set\n",
      "Has 211 scenes, selecting 30 of them\n",
      "Done\n"
     ]
    }
   ],
   "source": [
    "# train set\n",
    "print(\"Forming train set\")\n",
    "with open(ds[0], 'rb') as f:\n",
    "    env = dill.load(f, encoding='latin1')\n",
    "for dataset in ds[1:n_pkl_to_train_set]:\n",
    "    with open(dataset, 'rb') as f:\n",
    "        env2 = dill.load(f, encoding='latin1')\n",
    "    env.scenes.extend(env2.scenes)\n",
    "print(f\"Got {len(env.scenes)} scenes\")\n",
    "\n",
    "print(\"Augmenting scenes\")\n",
    "for scene in tqdm(env.scenes):\n",
    "    scene.augmented = list()\n",
    "    angles = np.arange(0, 360, 15)\n",
    "    for angle in angles:\n",
    "        scene.augmented.append(augment_scene(scene, angle))\n",
    "\n",
    "print(\"Shuffling scenes\")\n",
    "random.shuffle(env.scenes)\n",
    "random.shuffle(env.scenes)\n",
    "        \n",
    "print(\"Saving train set\")\n",
    "savepath = f\"{ DATADIR }/carla_train_{ version_label }_full.pkl\"\n",
    "with open(savepath, 'wb') as f:\n",
    "    dill.dump(env, f, protocol=dill.HIGHEST_PROTOCOL)\n",
    "\n",
    "print(\"Saving val set\")\n",
    "savepath = f\"{ DATADIR }/carla_val_{ version_label }_full.pkl\"\n",
    "if val_set_size is None:\n",
    "    shutil.copyfile(ds[val_set_idx], os.path.abspath(savepath))\n",
    "else:\n",
    "    with open(ds[val_set_idx], 'rb') as f:\n",
    "        env = dill.load(f, encoding='latin1')\n",
    "    print(f\"Has {len(env.scenes)} scenes, selecting {val_set_size} of them\")\n",
    "    random.shuffle(env.scenes)\n",
    "    env.scenes = env.scenes[:val_set_size]\n",
    "    with open(savepath, 'wb') as f:\n",
    "        dill.dump(env, f, protocol=dill.HIGHEST_PROTOCOL)\n",
    "\n",
    "print(\"Saving test set\")\n",
    "savepath = f\"{ DATADIR }/carla_test_{ version_label }_full.pkl\"\n",
    "if test_set_size is None:\n",
    "    shutil.copyfile(ds[test_set_idx], os.path.abspath(savepath))\n",
    "else:\n",
    "    with open(ds[test_set_idx], 'rb') as f:\n",
    "        env = dill.load(f, encoding='latin1')\n",
    "    print(f\"Has {len(env.scenes)} scenes, selecting {test_set_size} of them\")\n",
    "    random.shuffle(env.scenes)\n",
    "    env.scenes = env.scenes[:test_set_size]\n",
    "    with open(savepath, 'wb') as f:\n",
    "        dill.dump(env, f, protocol=dill.HIGHEST_PROTOCOL)\n",
    "\n",
    "print(\"Done\")"
   ]
  },
  {
   "cell_type": "markdown",
   "id": "7540e9c1",
   "metadata": {},
   "source": [
    "### Hotfix 1"
   ]
  },
  {
   "cell_type": "code",
   "execution_count": 40,
   "id": "4c427bd3",
   "metadata": {},
   "outputs": [],
   "source": [
    "HOTFIX_PREFIX = \"Carla/Maps/\"\n",
    "def hotfix_name(name):\n",
    "    \"\"\"In CARLA 0.9.13 generated raw data,\n",
    "    names may accidently have the form 'Carla/Maps/TownXX/...'.\n",
    "    Return name with the prefix 'Carla/Maps' removed.\"\"\"\n",
    "    if name.startswith(HOTFIX_PREFIX):\n",
    "        return name[len(HOTFIX_PREFIX):]\n",
    "    return name\n",
    "\n",
    "datafile = ds[4]"
   ]
  },
  {
   "cell_type": "code",
   "execution_count": 41,
   "id": "81769cb1",
   "metadata": {},
   "outputs": [
    {
     "name": "stdout",
     "output_type": "stream",
     "text": [
      "/home/daedalus/code/robotics/carla-collect/rawCarla-0.9.13-Town03/20220326_20-24-03_Town03.pkl\n",
      "Town03\n",
      "Town03/ep010/agent894/frame00002266\n",
      "Town03/ep010/agent895/frame00002266\n",
      "Town03/ep014/agent1472/frame00004844\n",
      "Town03/ep014/agent1473/frame00004844\n"
     ]
    }
   ],
   "source": [
    "with open(datafile, 'rb') as f:\n",
    "    env = dill.load(f, encoding='latin1')\n",
    "print(datafile)\n",
    "print(env.name)\n",
    "print(env.scenes[0].name)\n",
    "print(env.scenes[1].name)\n",
    "print(env.scenes[-2].name)\n",
    "print(env.scenes[-1].name)"
   ]
  },
  {
   "cell_type": "code",
   "execution_count": 28,
   "id": "9205325c",
   "metadata": {},
   "outputs": [],
   "source": [
    "env.name = hotfix_name(env.name)\n",
    "for scene in env.scenes:\n",
    "    scene.name = hotfix_name(scene.name)"
   ]
  },
  {
   "cell_type": "code",
   "execution_count": 29,
   "id": "cc8cab11",
   "metadata": {},
   "outputs": [
    {
     "name": "stdout",
     "output_type": "stream",
     "text": [
      "/home/daedalus/code/robotics/carla-collect/rawCarla-0.9.13-Town03/20220326_20-24-03_Town03.pkl\n",
      "Town03\n",
      "Town03/ep010/agent894/frame00002266\n",
      "Town03/ep010/agent895/frame00002266\n",
      "Town03/ep014/agent1472/frame00004844\n",
      "Town03/ep014/agent1473/frame00004844\n"
     ]
    }
   ],
   "source": [
    "print(datafile)\n",
    "print(env.name)\n",
    "print(env.scenes[0].name)\n",
    "print(env.scenes[1].name)\n",
    "print(env.scenes[-2].name)\n",
    "print(env.scenes[-1].name)"
   ]
  },
  {
   "cell_type": "code",
   "execution_count": 30,
   "id": "c5d5e20e",
   "metadata": {},
   "outputs": [],
   "source": [
    "with open(datafile, 'wb') as f:\n",
    "    dill.dump(env, f, protocol=dill.HIGHEST_PROTOCOL)"
   ]
  },
  {
   "cell_type": "code",
   "execution_count": null,
   "id": "52b04d7f",
   "metadata": {},
   "outputs": [],
   "source": []
  }
 ],
 "metadata": {
  "kernelspec": {
   "display_name": "Python 3 (ipykernel)",
   "language": "python",
   "name": "python3"
  },
  "language_info": {
   "codemirror_mode": {
    "name": "ipython",
    "version": 3
   },
   "file_extension": ".py",
   "mimetype": "text/x-python",
   "name": "python",
   "nbconvert_exporter": "python",
   "pygments_lexer": "ipython3",
   "version": "3.8.10"
  }
 },
 "nbformat": 4,
 "nbformat_minor": 5
}
